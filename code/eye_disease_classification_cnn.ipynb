{
  "nbformat": 4,
  "nbformat_minor": 0,
  "metadata": {
    "colab": {
      "provenance": [],
      "gpuType": "T4"
    },
    "kernelspec": {
      "name": "python3",
      "display_name": "Python 3"
    },
    "language_info": {
      "name": "python"
    },
    "accelerator": "GPU"
  },
  "cells": [
    {
      "cell_type": "markdown",
      "source": [
        "# Dependies"
      ],
      "metadata": {
        "id": "wA1eb2K2_mq2"
      }
    },
    {
      "cell_type": "code",
      "execution_count": 1,
      "metadata": {
        "colab": {
          "base_uri": "https://localhost:8080/"
        },
        "id": "vAlWWf1Hk9K2",
        "outputId": "d2f731c6-a01d-4145-8a24-40f2c31828e7"
      },
      "outputs": [
        {
          "output_type": "stream",
          "name": "stdout",
          "text": [
            "2.12.0\n"
          ]
        }
      ],
      "source": [
        "\n",
        "import tensorflow\n",
        "print(tensorflow.__version__)\n",
        ""
      ]
    },
    {
      "cell_type": "markdown",
      "source": [
        "# importing the dataset"
      ],
      "metadata": {
        "id": "y-daERAF_rsu"
      }
    },
    {
      "cell_type": "code",
      "source": [
        "!pip install roboflow\n",
        "\n",
        "from roboflow import Roboflow\n",
        "rf = Roboflow(api_key=\"VFQrSXI3PXI5ppUKRxg3\")\n",
        "project = rf.workspace(\"hari-narayanan\").project(\"eye-disease-classification-4hotj\")\n",
        "dataset = project.version(1).download(\"folder\")"
      ],
      "metadata": {
        "colab": {
          "base_uri": "https://localhost:8080/",
          "height": 1000
        },
        "id": "RvDG55b9lT7K",
        "outputId": "10b6d296-31f8-4755-b4cd-d74dc007c435"
      },
      "execution_count": 2,
      "outputs": [
        {
          "output_type": "stream",
          "name": "stdout",
          "text": [
            "Collecting roboflow\n",
            "  Downloading roboflow-1.1.0-py3-none-any.whl (57 kB)\n",
            "\u001b[?25l     \u001b[90m━━━━━━━━━━━━━━━━━━━━━━━━━━━━━━━━━━━━━━━━\u001b[0m \u001b[32m0.0/57.0 kB\u001b[0m \u001b[31m?\u001b[0m eta \u001b[36m-:--:--\u001b[0m\r\u001b[2K     \u001b[90m━━━━━━━━━━━━━━━━━━━━━━━━━━━━━━━━━━━━━━━━\u001b[0m \u001b[32m57.0/57.0 kB\u001b[0m \u001b[31m3.0 MB/s\u001b[0m eta \u001b[36m0:00:00\u001b[0m\n",
            "\u001b[?25hCollecting certifi==2022.12.7 (from roboflow)\n",
            "  Downloading certifi-2022.12.7-py3-none-any.whl (155 kB)\n",
            "\u001b[2K     \u001b[90m━━━━━━━━━━━━━━━━━━━━━━━━━━━━━━━━━━━━━━━\u001b[0m \u001b[32m155.3/155.3 kB\u001b[0m \u001b[31m7.8 MB/s\u001b[0m eta \u001b[36m0:00:00\u001b[0m\n",
            "\u001b[?25hRequirement already satisfied: chardet==4.0.0 in /usr/local/lib/python3.10/dist-packages (from roboflow) (4.0.0)\n",
            "Collecting cycler==0.10.0 (from roboflow)\n",
            "  Downloading cycler-0.10.0-py2.py3-none-any.whl (6.5 kB)\n",
            "Collecting idna==2.10 (from roboflow)\n",
            "  Downloading idna-2.10-py2.py3-none-any.whl (58 kB)\n",
            "\u001b[2K     \u001b[90m━━━━━━━━━━━━━━━━━━━━━━━━━━━━━━━━━━━━━━━━\u001b[0m \u001b[32m58.8/58.8 kB\u001b[0m \u001b[31m8.0 MB/s\u001b[0m eta \u001b[36m0:00:00\u001b[0m\n",
            "\u001b[?25hRequirement already satisfied: kiwisolver>=1.3.1 in /usr/local/lib/python3.10/dist-packages (from roboflow) (1.4.4)\n",
            "Requirement already satisfied: matplotlib in /usr/local/lib/python3.10/dist-packages (from roboflow) (3.7.1)\n",
            "Requirement already satisfied: numpy>=1.18.5 in /usr/local/lib/python3.10/dist-packages (from roboflow) (1.22.4)\n",
            "Requirement already satisfied: opencv-python>=4.1.2 in /usr/local/lib/python3.10/dist-packages (from roboflow) (4.7.0.72)\n",
            "Requirement already satisfied: Pillow>=7.1.2 in /usr/local/lib/python3.10/dist-packages (from roboflow) (8.4.0)\n",
            "Collecting pyparsing==2.4.7 (from roboflow)\n",
            "  Downloading pyparsing-2.4.7-py2.py3-none-any.whl (67 kB)\n",
            "\u001b[2K     \u001b[90m━━━━━━━━━━━━━━━━━━━━━━━━━━━━━━━━━━━━━━━━\u001b[0m \u001b[32m67.8/67.8 kB\u001b[0m \u001b[31m8.8 MB/s\u001b[0m eta \u001b[36m0:00:00\u001b[0m\n",
            "\u001b[?25hRequirement already satisfied: python-dateutil in /usr/local/lib/python3.10/dist-packages (from roboflow) (2.8.2)\n",
            "Collecting python-dotenv (from roboflow)\n",
            "  Downloading python_dotenv-1.0.0-py3-none-any.whl (19 kB)\n",
            "Requirement already satisfied: requests in /usr/local/lib/python3.10/dist-packages (from roboflow) (2.27.1)\n",
            "Requirement already satisfied: six in /usr/local/lib/python3.10/dist-packages (from roboflow) (1.16.0)\n",
            "Collecting supervision (from roboflow)\n",
            "  Downloading supervision-0.11.1-py3-none-any.whl (55 kB)\n",
            "\u001b[2K     \u001b[90m━━━━━━━━━━━━━━━━━━━━━━━━━━━━━━━━━━━━━━━━\u001b[0m \u001b[32m55.6/55.6 kB\u001b[0m \u001b[31m7.9 MB/s\u001b[0m eta \u001b[36m0:00:00\u001b[0m\n",
            "\u001b[?25hRequirement already satisfied: urllib3>=1.26.6 in /usr/local/lib/python3.10/dist-packages (from roboflow) (1.26.16)\n",
            "Collecting wget (from roboflow)\n",
            "  Downloading wget-3.2.zip (10 kB)\n",
            "  Preparing metadata (setup.py) ... \u001b[?25l\u001b[?25hdone\n",
            "Requirement already satisfied: tqdm>=4.41.0 in /usr/local/lib/python3.10/dist-packages (from roboflow) (4.65.0)\n",
            "Requirement already satisfied: PyYAML>=5.3.1 in /usr/local/lib/python3.10/dist-packages (from roboflow) (6.0)\n",
            "Collecting requests-toolbelt (from roboflow)\n",
            "  Downloading requests_toolbelt-1.0.0-py2.py3-none-any.whl (54 kB)\n",
            "\u001b[2K     \u001b[90m━━━━━━━━━━━━━━━━━━━━━━━━━━━━━━━━━━━━━━━━\u001b[0m \u001b[32m54.5/54.5 kB\u001b[0m \u001b[31m7.6 MB/s\u001b[0m eta \u001b[36m0:00:00\u001b[0m\n",
            "\u001b[?25hRequirement already satisfied: contourpy>=1.0.1 in /usr/local/lib/python3.10/dist-packages (from matplotlib->roboflow) (1.1.0)\n",
            "Requirement already satisfied: fonttools>=4.22.0 in /usr/local/lib/python3.10/dist-packages (from matplotlib->roboflow) (4.40.0)\n",
            "Requirement already satisfied: packaging>=20.0 in /usr/local/lib/python3.10/dist-packages (from matplotlib->roboflow) (23.1)\n",
            "Requirement already satisfied: charset-normalizer~=2.0.0 in /usr/local/lib/python3.10/dist-packages (from requests->roboflow) (2.0.12)\n",
            "Building wheels for collected packages: wget\n",
            "  Building wheel for wget (setup.py) ... \u001b[?25l\u001b[?25hdone\n",
            "  Created wheel for wget: filename=wget-3.2-py3-none-any.whl size=9657 sha256=b571833d901314f5a72c8f2150bd5353abe0dd5d3bd417ae08d80a1693532869\n",
            "  Stored in directory: /root/.cache/pip/wheels/8b/f1/7f/5c94f0a7a505ca1c81cd1d9208ae2064675d97582078e6c769\n",
            "Successfully built wget\n",
            "Installing collected packages: wget, python-dotenv, pyparsing, idna, cycler, certifi, supervision, requests-toolbelt, roboflow\n",
            "  Attempting uninstall: pyparsing\n",
            "    Found existing installation: pyparsing 3.1.0\n",
            "    Uninstalling pyparsing-3.1.0:\n",
            "      Successfully uninstalled pyparsing-3.1.0\n",
            "  Attempting uninstall: idna\n",
            "    Found existing installation: idna 3.4\n",
            "    Uninstalling idna-3.4:\n",
            "      Successfully uninstalled idna-3.4\n",
            "  Attempting uninstall: cycler\n",
            "    Found existing installation: cycler 0.11.0\n",
            "    Uninstalling cycler-0.11.0:\n",
            "      Successfully uninstalled cycler-0.11.0\n",
            "  Attempting uninstall: certifi\n",
            "    Found existing installation: certifi 2023.5.7\n",
            "    Uninstalling certifi-2023.5.7:\n",
            "      Successfully uninstalled certifi-2023.5.7\n",
            "Successfully installed certifi-2022.12.7 cycler-0.10.0 idna-2.10 pyparsing-2.4.7 python-dotenv-1.0.0 requests-toolbelt-1.0.0 roboflow-1.1.0 supervision-0.11.1 wget-3.2\n"
          ]
        },
        {
          "output_type": "display_data",
          "data": {
            "application/vnd.colab-display-data+json": {
              "pip_warning": {
                "packages": [
                  "certifi",
                  "cycler",
                  "idna",
                  "pyparsing"
                ]
              }
            }
          },
          "metadata": {}
        },
        {
          "output_type": "stream",
          "name": "stdout",
          "text": [
            "loading Roboflow workspace...\n",
            "loading Roboflow project...\n",
            "Downloading Dataset Version Zip in eye-disease-classification-1 to folder: 100% [42216972 / 42216972] bytes\n"
          ]
        },
        {
          "output_type": "stream",
          "name": "stderr",
          "text": [
            "Extracting Dataset Version Zip to eye-disease-classification-1 in folder:: 100%|██████████| 1627/1627 [00:00<00:00, 3200.74it/s]\n"
          ]
        }
      ]
    },
    {
      "cell_type": "markdown",
      "source": [
        "# Data Preprocessing"
      ],
      "metadata": {
        "id": "_cnylVT6_xPq"
      }
    },
    {
      "cell_type": "code",
      "source": [
        "import cv2,os\n",
        "data_path='/content/eye-disease-classification-1/train'\n",
        "categories=os.listdir(data_path)\n",
        "labels=[i for i in range(len(categories))]\n",
        "\n",
        "label_dict=dict(zip(categories,labels)) #empty dictionary\n",
        "print(label_dict)\n",
        "print(categories)\n",
        "print(labels)"
      ],
      "metadata": {
        "colab": {
          "base_uri": "https://localhost:8080/"
        },
        "id": "TWeBHNO1lUfN",
        "outputId": "aeb314db-2657-477c-c1c3-46925896b663"
      },
      "execution_count": 3,
      "outputs": [
        {
          "output_type": "stream",
          "name": "stdout",
          "text": [
            "{'Diabetic': 0, 'Hypertensive': 1, 'Others': 2, 'Normal': 3, 'Myopia': 4, 'Glaucoma': 5, 'Cataract': 6}\n",
            "['Diabetic', 'Hypertensive', 'Others', 'Normal', 'Myopia', 'Glaucoma', 'Cataract']\n",
            "[0, 1, 2, 3, 4, 5, 6]\n"
          ]
        }
      ]
    },
    {
      "cell_type": "code",
      "source": [
        "img_size=100\n",
        "data=[]\n",
        "target=[]\n",
        "\n",
        "for category in categories:\n",
        "    folder_path=os.path.join(data_path,category)\n",
        "    img_names=os.listdir(folder_path)\n",
        "\n",
        "    for img_name in img_names:\n",
        "        img_path=os.path.join(folder_path,img_name)\n",
        "        img=cv2.imread(img_path)\n",
        "\n",
        "        try:\n",
        "            resized=cv2.resize(img,(img_size,img_size))\n",
        "            #resizing the image  into 100x100, since we need a fixed common size for all the images in the dataset\n",
        "            data.append(resized)\n",
        "            target.append(label_dict[category])\n",
        "            #appending the image and the label(categorized) into the list (dataset)\n",
        "        except Exception as e:\n",
        "            print('Exception:',e)\n",
        "            #if any exception rasied, the exception will be printed here. And pass to the next image"
      ],
      "metadata": {
        "id": "diO0nKOuljCK"
      },
      "execution_count": 4,
      "outputs": []
    },
    {
      "cell_type": "markdown",
      "source": [
        "# Recale and assign catagorical"
      ],
      "metadata": {
        "id": "MB5UgVus_2st"
      }
    },
    {
      "cell_type": "code",
      "source": [
        "import numpy as np\n",
        "data=np.array(data)/255.0\n",
        "data=np.reshape(data,(data.shape[0],img_size,img_size,3))\n",
        "target=np.array(target)\n",
        "from keras.utils import np_utils\n",
        "new_target=np_utils.to_categorical(target)"
      ],
      "metadata": {
        "id": "eTxrHIe7loiP"
      },
      "execution_count": 5,
      "outputs": []
    },
    {
      "cell_type": "code",
      "source": [
        "\n",
        "new_target.shape"
      ],
      "metadata": {
        "colab": {
          "base_uri": "https://localhost:8080/"
        },
        "id": "-Jm9PhtUlsWo",
        "outputId": "b5229529-31f9-478f-959b-10909ee9755f"
      },
      "execution_count": 6,
      "outputs": [
        {
          "output_type": "execute_result",
          "data": {
            "text/plain": [
              "(1118, 7)"
            ]
          },
          "metadata": {},
          "execution_count": 6
        }
      ]
    },
    {
      "cell_type": "code",
      "source": [
        "\n",
        "data.shape"
      ],
      "metadata": {
        "colab": {
          "base_uri": "https://localhost:8080/"
        },
        "id": "CflDJhP8luy6",
        "outputId": "ddfaddd9-e252-472b-dfa6-c2e9f960732e"
      },
      "execution_count": 7,
      "outputs": [
        {
          "output_type": "execute_result",
          "data": {
            "text/plain": [
              "(1118, 100, 100, 3)"
            ]
          },
          "metadata": {},
          "execution_count": 7
        }
      ]
    },
    {
      "cell_type": "code",
      "source": [
        "\n",
        "data.shape[1:]"
      ],
      "metadata": {
        "colab": {
          "base_uri": "https://localhost:8080/"
        },
        "id": "Az0-e1tmlx1i",
        "outputId": "ead38d69-56a9-4288-f011-e44e5e7f3244"
      },
      "execution_count": 8,
      "outputs": [
        {
          "output_type": "execute_result",
          "data": {
            "text/plain": [
              "(100, 100, 3)"
            ]
          },
          "metadata": {},
          "execution_count": 8
        }
      ]
    },
    {
      "cell_type": "markdown",
      "source": [
        "# CNN Model"
      ],
      "metadata": {
        "id": "71BzNkWA__5_"
      }
    },
    {
      "cell_type": "code",
      "source": [
        "from keras.models import Sequential\n",
        "from keras.layers import Dense,Activation,Flatten,Dropout\n",
        "from keras.layers import Conv2D,MaxPooling2D\n",
        "from keras.callbacks import ModelCheckpoint\n",
        "\n",
        "model=Sequential()\n",
        "\n",
        "model.add(Conv2D(200,(3,3),input_shape=data.shape[1:]))\n",
        "model.add(Activation('relu'))\n",
        "model.add(MaxPooling2D(pool_size=(2,2)))\n",
        "#The first CNN layer followed by Relu and MaxPooling layers\n",
        "\n",
        "model.add(Conv2D(100,(3,3)))\n",
        "model.add(Activation('relu'))\n",
        "model.add(MaxPooling2D(pool_size=(2,2)))\n",
        "#The second convolution layer followed by Relu and MaxPooling layers\n",
        "\n",
        "model.add(Flatten())\n",
        "model.add(Dropout(0.5))\n",
        "#Flatten layer to stack the output convolutions from second convolution layer\n",
        "model.add(Dense(50,activation='relu'))\n",
        "#Dense layer of 64 neurons\n",
        "model.add(Dense(7,activation='softmax'))\n",
        "#The Final layer with two outputs for two categories\n",
        "\n",
        "model.compile(loss='categorical_crossentropy',optimizer='adam',metrics=['accuracy'])"
      ],
      "metadata": {
        "id": "exv4z3NWl0f8"
      },
      "execution_count": 23,
      "outputs": []
    },
    {
      "cell_type": "code",
      "source": [
        "\n",
        "model.summary()"
      ],
      "metadata": {
        "colab": {
          "base_uri": "https://localhost:8080/"
        },
        "id": "bVbqo4i_l23D",
        "outputId": "faca489a-f6d5-4e04-b8d3-65abaa5242ed"
      },
      "execution_count": 24,
      "outputs": [
        {
          "output_type": "stream",
          "name": "stdout",
          "text": [
            "Model: \"sequential_1\"\n",
            "_________________________________________________________________\n",
            " Layer (type)                Output Shape              Param #   \n",
            "=================================================================\n",
            " conv2d_2 (Conv2D)           (None, 98, 98, 200)       5600      \n",
            "                                                                 \n",
            " activation_2 (Activation)   (None, 98, 98, 200)       0         \n",
            "                                                                 \n",
            " max_pooling2d_2 (MaxPooling  (None, 49, 49, 200)      0         \n",
            " 2D)                                                             \n",
            "                                                                 \n",
            " conv2d_3 (Conv2D)           (None, 47, 47, 100)       180100    \n",
            "                                                                 \n",
            " activation_3 (Activation)   (None, 47, 47, 100)       0         \n",
            "                                                                 \n",
            " max_pooling2d_3 (MaxPooling  (None, 23, 23, 100)      0         \n",
            " 2D)                                                             \n",
            "                                                                 \n",
            " flatten_1 (Flatten)         (None, 52900)             0         \n",
            "                                                                 \n",
            " dropout_1 (Dropout)         (None, 52900)             0         \n",
            "                                                                 \n",
            " dense_2 (Dense)             (None, 50)                2645050   \n",
            "                                                                 \n",
            " dense_3 (Dense)             (None, 7)                 357       \n",
            "                                                                 \n",
            "=================================================================\n",
            "Total params: 2,831,107\n",
            "Trainable params: 2,831,107\n",
            "Non-trainable params: 0\n",
            "_________________________________________________________________\n"
          ]
        }
      ]
    },
    {
      "cell_type": "markdown",
      "source": [
        "# Splitting data into training and testing"
      ],
      "metadata": {
        "id": "qeIvBqDzAEOW"
      }
    },
    {
      "cell_type": "code",
      "source": [
        "\n",
        "from sklearn.model_selection import train_test_split\n",
        "train_data,test_data,train_target,test_target=train_test_split(data,new_target,test_size=0.1)"
      ],
      "metadata": {
        "id": "q0O9mXXMl43m"
      },
      "execution_count": 25,
      "outputs": []
    },
    {
      "cell_type": "code",
      "source": [
        "train_data.shape"
      ],
      "metadata": {
        "colab": {
          "base_uri": "https://localhost:8080/"
        },
        "id": "EUXITlNPl-Jm",
        "outputId": "596dede2-45d8-44bc-8ea7-5311c7e2f0b1"
      },
      "execution_count": 26,
      "outputs": [
        {
          "output_type": "execute_result",
          "data": {
            "text/plain": [
              "(1006, 100, 100, 3)"
            ]
          },
          "metadata": {},
          "execution_count": 26
        }
      ]
    },
    {
      "cell_type": "code",
      "source": [
        "\n",
        "train_target.shape"
      ],
      "metadata": {
        "colab": {
          "base_uri": "https://localhost:8080/"
        },
        "id": "SZB1ALM0mBX3",
        "outputId": "b6aea390-a356-4540-e134-e3f7b48b87b6"
      },
      "execution_count": 27,
      "outputs": [
        {
          "output_type": "execute_result",
          "data": {
            "text/plain": [
              "(1006, 7)"
            ]
          },
          "metadata": {},
          "execution_count": 27
        }
      ]
    },
    {
      "cell_type": "code",
      "source": [
        "#checkpoint = ModelCheckpoint('model-{epoch:03d}.model',monitor='val_loss',verbose=0,save_best_only=True,mode='auto')\n",
        "history=model.fit(train_data,train_target,epochs=100,validation_split=0.2)"
      ],
      "metadata": {
        "colab": {
          "base_uri": "https://localhost:8080/"
        },
        "id": "nk8lHtN5mER4",
        "outputId": "2265951c-3e73-465e-aced-691d654e40fd"
      },
      "execution_count": 28,
      "outputs": [
        {
          "output_type": "stream",
          "name": "stdout",
          "text": [
            "Epoch 1/100\n",
            "26/26 [==============================] - 14s 64ms/step - loss: 1.9574 - accuracy: 0.1580 - val_loss: 1.9103 - val_accuracy: 0.1337\n",
            "Epoch 2/100\n",
            "26/26 [==============================] - 1s 40ms/step - loss: 1.8885 - accuracy: 0.2077 - val_loss: 1.8871 - val_accuracy: 0.1733\n",
            "Epoch 3/100\n",
            "26/26 [==============================] - 1s 42ms/step - loss: 1.8308 - accuracy: 0.2450 - val_loss: 1.8780 - val_accuracy: 0.2624\n",
            "Epoch 4/100\n",
            "26/26 [==============================] - 1s 40ms/step - loss: 1.7872 - accuracy: 0.2935 - val_loss: 1.7876 - val_accuracy: 0.3267\n",
            "Epoch 5/100\n",
            "26/26 [==============================] - 1s 37ms/step - loss: 1.7438 - accuracy: 0.3159 - val_loss: 1.7304 - val_accuracy: 0.2871\n",
            "Epoch 6/100\n",
            "26/26 [==============================] - 1s 36ms/step - loss: 1.6946 - accuracy: 0.3209 - val_loss: 1.7127 - val_accuracy: 0.3020\n",
            "Epoch 7/100\n",
            "26/26 [==============================] - 1s 39ms/step - loss: 1.6676 - accuracy: 0.3520 - val_loss: 1.7668 - val_accuracy: 0.3119\n",
            "Epoch 8/100\n",
            "26/26 [==============================] - 1s 36ms/step - loss: 1.6079 - accuracy: 0.3719 - val_loss: 1.6839 - val_accuracy: 0.3465\n",
            "Epoch 9/100\n",
            "26/26 [==============================] - 1s 39ms/step - loss: 1.5700 - accuracy: 0.3644 - val_loss: 1.7400 - val_accuracy: 0.2871\n",
            "Epoch 10/100\n",
            "26/26 [==============================] - 1s 36ms/step - loss: 1.5455 - accuracy: 0.3644 - val_loss: 1.6884 - val_accuracy: 0.2772\n",
            "Epoch 11/100\n",
            "26/26 [==============================] - 1s 40ms/step - loss: 1.5525 - accuracy: 0.3756 - val_loss: 1.6668 - val_accuracy: 0.3119\n",
            "Epoch 12/100\n",
            "26/26 [==============================] - 1s 36ms/step - loss: 1.5126 - accuracy: 0.4067 - val_loss: 1.6653 - val_accuracy: 0.3267\n",
            "Epoch 13/100\n",
            "26/26 [==============================] - 1s 37ms/step - loss: 1.4382 - accuracy: 0.4565 - val_loss: 1.7221 - val_accuracy: 0.3218\n",
            "Epoch 14/100\n",
            "26/26 [==============================] - 1s 40ms/step - loss: 1.4146 - accuracy: 0.4428 - val_loss: 1.6388 - val_accuracy: 0.3020\n",
            "Epoch 15/100\n",
            "26/26 [==============================] - 1s 42ms/step - loss: 1.3991 - accuracy: 0.4415 - val_loss: 1.6263 - val_accuracy: 0.3614\n",
            "Epoch 16/100\n",
            "26/26 [==============================] - 1s 39ms/step - loss: 1.3816 - accuracy: 0.4391 - val_loss: 1.6586 - val_accuracy: 0.3020\n",
            "Epoch 17/100\n",
            "26/26 [==============================] - 1s 40ms/step - loss: 1.3521 - accuracy: 0.4726 - val_loss: 1.6539 - val_accuracy: 0.3564\n",
            "Epoch 18/100\n",
            "26/26 [==============================] - 1s 40ms/step - loss: 1.3754 - accuracy: 0.4677 - val_loss: 1.5932 - val_accuracy: 0.3069\n",
            "Epoch 19/100\n",
            "26/26 [==============================] - 1s 37ms/step - loss: 1.3116 - accuracy: 0.4565 - val_loss: 1.6109 - val_accuracy: 0.3465\n",
            "Epoch 20/100\n",
            "26/26 [==============================] - 1s 40ms/step - loss: 1.2232 - accuracy: 0.5311 - val_loss: 1.6505 - val_accuracy: 0.3564\n",
            "Epoch 21/100\n",
            "26/26 [==============================] - 1s 36ms/step - loss: 1.2437 - accuracy: 0.5373 - val_loss: 1.5626 - val_accuracy: 0.3614\n",
            "Epoch 22/100\n",
            "26/26 [==============================] - 1s 37ms/step - loss: 1.1539 - accuracy: 0.5373 - val_loss: 1.6468 - val_accuracy: 0.3960\n",
            "Epoch 23/100\n",
            "26/26 [==============================] - 1s 37ms/step - loss: 1.1324 - accuracy: 0.5572 - val_loss: 1.7331 - val_accuracy: 0.3515\n",
            "Epoch 24/100\n",
            "26/26 [==============================] - 1s 37ms/step - loss: 1.1429 - accuracy: 0.5659 - val_loss: 1.6754 - val_accuracy: 0.3713\n",
            "Epoch 25/100\n",
            "26/26 [==============================] - 1s 37ms/step - loss: 1.1126 - accuracy: 0.5634 - val_loss: 1.6826 - val_accuracy: 0.3861\n",
            "Epoch 26/100\n",
            "26/26 [==============================] - 1s 40ms/step - loss: 1.0219 - accuracy: 0.5908 - val_loss: 1.7498 - val_accuracy: 0.3812\n",
            "Epoch 27/100\n",
            "26/26 [==============================] - 1s 41ms/step - loss: 1.0171 - accuracy: 0.6045 - val_loss: 1.6459 - val_accuracy: 0.3564\n",
            "Epoch 28/100\n",
            "26/26 [==============================] - 1s 42ms/step - loss: 1.0058 - accuracy: 0.6294 - val_loss: 1.8405 - val_accuracy: 0.4257\n",
            "Epoch 29/100\n",
            "26/26 [==============================] - 1s 42ms/step - loss: 0.9780 - accuracy: 0.6331 - val_loss: 1.7655 - val_accuracy: 0.4109\n",
            "Epoch 30/100\n",
            "26/26 [==============================] - 1s 40ms/step - loss: 0.9200 - accuracy: 0.6430 - val_loss: 1.8112 - val_accuracy: 0.3812\n",
            "Epoch 31/100\n",
            "26/26 [==============================] - 1s 37ms/step - loss: 0.8853 - accuracy: 0.6679 - val_loss: 1.8142 - val_accuracy: 0.3564\n",
            "Epoch 32/100\n",
            "26/26 [==============================] - 1s 40ms/step - loss: 0.8817 - accuracy: 0.6530 - val_loss: 2.0674 - val_accuracy: 0.3663\n",
            "Epoch 33/100\n",
            "26/26 [==============================] - 1s 40ms/step - loss: 1.0045 - accuracy: 0.6206 - val_loss: 1.8395 - val_accuracy: 0.3762\n",
            "Epoch 34/100\n",
            "26/26 [==============================] - 1s 39ms/step - loss: 0.8084 - accuracy: 0.6866 - val_loss: 1.7734 - val_accuracy: 0.3960\n",
            "Epoch 35/100\n",
            "26/26 [==============================] - 1s 37ms/step - loss: 0.7579 - accuracy: 0.7090 - val_loss: 1.9801 - val_accuracy: 0.3663\n",
            "Epoch 36/100\n",
            "26/26 [==============================] - 1s 37ms/step - loss: 0.7158 - accuracy: 0.7338 - val_loss: 2.0309 - val_accuracy: 0.3564\n",
            "Epoch 37/100\n",
            "26/26 [==============================] - 1s 40ms/step - loss: 0.7236 - accuracy: 0.7164 - val_loss: 2.0689 - val_accuracy: 0.3564\n",
            "Epoch 38/100\n",
            "26/26 [==============================] - 1s 37ms/step - loss: 0.7114 - accuracy: 0.7251 - val_loss: 2.1450 - val_accuracy: 0.3713\n",
            "Epoch 39/100\n",
            "26/26 [==============================] - 1s 40ms/step - loss: 0.6989 - accuracy: 0.7413 - val_loss: 2.3159 - val_accuracy: 0.3317\n",
            "Epoch 40/100\n",
            "26/26 [==============================] - 1s 38ms/step - loss: 0.8117 - accuracy: 0.7189 - val_loss: 2.0210 - val_accuracy: 0.3663\n",
            "Epoch 41/100\n",
            "26/26 [==============================] - 1s 39ms/step - loss: 0.6891 - accuracy: 0.7500 - val_loss: 2.1107 - val_accuracy: 0.4257\n",
            "Epoch 42/100\n",
            "26/26 [==============================] - 1s 41ms/step - loss: 0.6497 - accuracy: 0.7463 - val_loss: 2.1975 - val_accuracy: 0.3515\n",
            "Epoch 43/100\n",
            "26/26 [==============================] - 1s 40ms/step - loss: 0.5901 - accuracy: 0.7948 - val_loss: 2.3055 - val_accuracy: 0.3960\n",
            "Epoch 44/100\n",
            "26/26 [==============================] - 1s 36ms/step - loss: 0.5992 - accuracy: 0.7637 - val_loss: 2.1824 - val_accuracy: 0.4010\n",
            "Epoch 45/100\n",
            "26/26 [==============================] - 1s 36ms/step - loss: 0.5448 - accuracy: 0.8134 - val_loss: 2.3578 - val_accuracy: 0.3366\n",
            "Epoch 46/100\n",
            "26/26 [==============================] - 1s 39ms/step - loss: 0.4891 - accuracy: 0.8296 - val_loss: 2.3641 - val_accuracy: 0.3960\n",
            "Epoch 47/100\n",
            "26/26 [==============================] - 1s 36ms/step - loss: 0.4657 - accuracy: 0.8495 - val_loss: 2.6177 - val_accuracy: 0.3614\n",
            "Epoch 48/100\n",
            "26/26 [==============================] - 1s 40ms/step - loss: 0.4800 - accuracy: 0.8172 - val_loss: 2.4248 - val_accuracy: 0.3663\n",
            "Epoch 49/100\n",
            "26/26 [==============================] - 1s 40ms/step - loss: 0.6047 - accuracy: 0.7761 - val_loss: 2.4753 - val_accuracy: 0.3663\n",
            "Epoch 50/100\n",
            "26/26 [==============================] - 1s 39ms/step - loss: 0.5249 - accuracy: 0.8010 - val_loss: 2.3266 - val_accuracy: 0.3663\n",
            "Epoch 51/100\n",
            "26/26 [==============================] - 1s 37ms/step - loss: 0.5017 - accuracy: 0.8209 - val_loss: 2.3636 - val_accuracy: 0.3515\n",
            "Epoch 52/100\n",
            "26/26 [==============================] - 1s 41ms/step - loss: 0.4838 - accuracy: 0.8197 - val_loss: 2.5534 - val_accuracy: 0.3762\n",
            "Epoch 53/100\n",
            "26/26 [==============================] - 1s 41ms/step - loss: 0.3963 - accuracy: 0.8532 - val_loss: 2.6149 - val_accuracy: 0.3713\n",
            "Epoch 54/100\n",
            "26/26 [==============================] - 1s 38ms/step - loss: 0.3883 - accuracy: 0.8582 - val_loss: 2.9293 - val_accuracy: 0.3762\n",
            "Epoch 55/100\n",
            "26/26 [==============================] - 1s 39ms/step - loss: 0.3701 - accuracy: 0.8769 - val_loss: 2.8245 - val_accuracy: 0.3564\n",
            "Epoch 56/100\n",
            "26/26 [==============================] - 1s 39ms/step - loss: 0.3651 - accuracy: 0.8806 - val_loss: 2.8464 - val_accuracy: 0.3465\n",
            "Epoch 57/100\n",
            "26/26 [==============================] - 1s 37ms/step - loss: 0.3641 - accuracy: 0.8657 - val_loss: 3.0491 - val_accuracy: 0.3564\n",
            "Epoch 58/100\n",
            "26/26 [==============================] - 1s 37ms/step - loss: 0.3185 - accuracy: 0.8856 - val_loss: 3.0685 - val_accuracy: 0.3465\n",
            "Epoch 59/100\n",
            "26/26 [==============================] - 1s 39ms/step - loss: 0.3619 - accuracy: 0.8818 - val_loss: 2.8783 - val_accuracy: 0.3861\n",
            "Epoch 60/100\n",
            "26/26 [==============================] - 1s 37ms/step - loss: 0.3273 - accuracy: 0.8930 - val_loss: 2.9932 - val_accuracy: 0.3614\n",
            "Epoch 61/100\n",
            "26/26 [==============================] - 1s 40ms/step - loss: 0.3157 - accuracy: 0.8943 - val_loss: 2.6923 - val_accuracy: 0.3861\n",
            "Epoch 62/100\n",
            "26/26 [==============================] - 1s 37ms/step - loss: 0.3117 - accuracy: 0.8756 - val_loss: 2.9663 - val_accuracy: 0.3663\n",
            "Epoch 63/100\n",
            "26/26 [==============================] - 1s 37ms/step - loss: 0.3490 - accuracy: 0.8781 - val_loss: 3.3290 - val_accuracy: 0.3317\n",
            "Epoch 64/100\n",
            "26/26 [==============================] - 1s 36ms/step - loss: 0.2389 - accuracy: 0.9192 - val_loss: 3.1401 - val_accuracy: 0.3614\n",
            "Epoch 65/100\n",
            "26/26 [==============================] - 1s 41ms/step - loss: 0.2425 - accuracy: 0.9229 - val_loss: 3.0702 - val_accuracy: 0.3614\n",
            "Epoch 66/100\n",
            "26/26 [==============================] - 1s 40ms/step - loss: 0.2746 - accuracy: 0.8980 - val_loss: 3.3292 - val_accuracy: 0.3960\n",
            "Epoch 67/100\n",
            "26/26 [==============================] - 1s 40ms/step - loss: 0.3074 - accuracy: 0.8905 - val_loss: 3.1781 - val_accuracy: 0.3762\n",
            "Epoch 68/100\n",
            "26/26 [==============================] - 1s 39ms/step - loss: 0.2416 - accuracy: 0.9353 - val_loss: 3.2673 - val_accuracy: 0.4059\n",
            "Epoch 69/100\n",
            "26/26 [==============================] - 1s 39ms/step - loss: 0.2156 - accuracy: 0.9303 - val_loss: 3.4321 - val_accuracy: 0.4010\n",
            "Epoch 70/100\n",
            "26/26 [==============================] - 1s 36ms/step - loss: 0.2381 - accuracy: 0.9241 - val_loss: 3.3202 - val_accuracy: 0.3614\n",
            "Epoch 71/100\n",
            "26/26 [==============================] - 1s 45ms/step - loss: 0.2426 - accuracy: 0.9179 - val_loss: 3.4940 - val_accuracy: 0.3663\n",
            "Epoch 72/100\n",
            "26/26 [==============================] - 1s 39ms/step - loss: 0.2167 - accuracy: 0.9216 - val_loss: 3.4292 - val_accuracy: 0.3762\n",
            "Epoch 73/100\n",
            "26/26 [==============================] - 1s 36ms/step - loss: 0.1534 - accuracy: 0.9565 - val_loss: 4.0157 - val_accuracy: 0.3663\n",
            "Epoch 74/100\n",
            "26/26 [==============================] - 1s 36ms/step - loss: 0.1411 - accuracy: 0.9565 - val_loss: 3.8716 - val_accuracy: 0.3861\n",
            "Epoch 75/100\n",
            "26/26 [==============================] - 1s 37ms/step - loss: 0.1877 - accuracy: 0.9303 - val_loss: 3.7442 - val_accuracy: 0.3564\n",
            "Epoch 76/100\n",
            "26/26 [==============================] - 1s 36ms/step - loss: 0.2351 - accuracy: 0.9279 - val_loss: 3.5768 - val_accuracy: 0.3812\n",
            "Epoch 77/100\n",
            "26/26 [==============================] - 1s 40ms/step - loss: 0.1947 - accuracy: 0.9241 - val_loss: 3.9029 - val_accuracy: 0.3861\n",
            "Epoch 78/100\n",
            "26/26 [==============================] - 1s 43ms/step - loss: 0.1928 - accuracy: 0.9328 - val_loss: 3.6172 - val_accuracy: 0.3614\n",
            "Epoch 79/100\n",
            "26/26 [==============================] - 1s 42ms/step - loss: 0.1654 - accuracy: 0.9453 - val_loss: 3.9996 - val_accuracy: 0.3861\n",
            "Epoch 80/100\n",
            "26/26 [==============================] - 1s 36ms/step - loss: 0.1608 - accuracy: 0.9515 - val_loss: 3.9891 - val_accuracy: 0.3762\n",
            "Epoch 81/100\n",
            "26/26 [==============================] - 1s 39ms/step - loss: 0.1856 - accuracy: 0.9366 - val_loss: 3.7157 - val_accuracy: 0.3762\n",
            "Epoch 82/100\n",
            "26/26 [==============================] - 1s 36ms/step - loss: 0.1942 - accuracy: 0.9378 - val_loss: 4.0332 - val_accuracy: 0.3515\n",
            "Epoch 83/100\n",
            "26/26 [==============================] - 1s 39ms/step - loss: 0.2317 - accuracy: 0.9204 - val_loss: 3.9615 - val_accuracy: 0.3762\n",
            "Epoch 84/100\n",
            "26/26 [==============================] - 1s 39ms/step - loss: 0.2468 - accuracy: 0.9241 - val_loss: 3.8181 - val_accuracy: 0.3713\n",
            "Epoch 85/100\n",
            "26/26 [==============================] - 1s 36ms/step - loss: 0.2286 - accuracy: 0.9229 - val_loss: 3.8177 - val_accuracy: 0.4010\n",
            "Epoch 86/100\n",
            "26/26 [==============================] - 1s 40ms/step - loss: 0.1385 - accuracy: 0.9552 - val_loss: 4.0482 - val_accuracy: 0.3614\n",
            "Epoch 87/100\n",
            "26/26 [==============================] - 1s 36ms/step - loss: 0.1424 - accuracy: 0.9602 - val_loss: 4.2757 - val_accuracy: 0.3911\n",
            "Epoch 88/100\n",
            "26/26 [==============================] - 1s 39ms/step - loss: 0.1361 - accuracy: 0.9527 - val_loss: 4.0696 - val_accuracy: 0.3812\n",
            "Epoch 89/100\n",
            "26/26 [==============================] - 1s 39ms/step - loss: 0.1225 - accuracy: 0.9590 - val_loss: 4.4479 - val_accuracy: 0.3911\n",
            "Epoch 90/100\n",
            "26/26 [==============================] - 1s 42ms/step - loss: 0.1791 - accuracy: 0.9353 - val_loss: 4.3326 - val_accuracy: 0.3762\n",
            "Epoch 91/100\n",
            "26/26 [==============================] - 1s 42ms/step - loss: 0.1966 - accuracy: 0.9415 - val_loss: 4.1767 - val_accuracy: 0.3663\n",
            "Epoch 92/100\n",
            "26/26 [==============================] - 1s 40ms/step - loss: 0.4291 - accuracy: 0.8582 - val_loss: 3.6333 - val_accuracy: 0.3713\n",
            "Epoch 93/100\n",
            "26/26 [==============================] - 1s 39ms/step - loss: 0.3939 - accuracy: 0.8831 - val_loss: 3.9404 - val_accuracy: 0.3366\n",
            "Epoch 94/100\n",
            "26/26 [==============================] - 1s 40ms/step - loss: 0.2662 - accuracy: 0.9104 - val_loss: 4.0823 - val_accuracy: 0.3218\n",
            "Epoch 95/100\n",
            "26/26 [==============================] - 1s 39ms/step - loss: 0.1444 - accuracy: 0.9565 - val_loss: 3.9697 - val_accuracy: 0.3564\n",
            "Epoch 96/100\n",
            "26/26 [==============================] - 1s 39ms/step - loss: 0.1073 - accuracy: 0.9701 - val_loss: 4.3686 - val_accuracy: 0.3366\n",
            "Epoch 97/100\n",
            "26/26 [==============================] - 1s 36ms/step - loss: 0.1181 - accuracy: 0.9552 - val_loss: 4.4149 - val_accuracy: 0.3564\n",
            "Epoch 98/100\n",
            "26/26 [==============================] - 1s 36ms/step - loss: 0.1368 - accuracy: 0.9590 - val_loss: 4.1872 - val_accuracy: 0.3812\n",
            "Epoch 99/100\n",
            "26/26 [==============================] - 1s 37ms/step - loss: 0.1926 - accuracy: 0.9403 - val_loss: 4.5355 - val_accuracy: 0.3416\n",
            "Epoch 100/100\n",
            "26/26 [==============================] - 1s 36ms/step - loss: 0.1070 - accuracy: 0.9664 - val_loss: 4.5654 - val_accuracy: 0.3267\n"
          ]
        }
      ]
    },
    {
      "cell_type": "code",
      "source": [
        "model.save('model.h5')"
      ],
      "metadata": {
        "id": "U-EhnzcSmbFx"
      },
      "execution_count": 29,
      "outputs": []
    },
    {
      "cell_type": "code",
      "source": [
        "from matplotlib import pyplot as plt"
      ],
      "metadata": {
        "id": "2INA3AusnmzI"
      },
      "execution_count": 30,
      "outputs": []
    },
    {
      "cell_type": "code",
      "source": [
        "# plot the training loss and accuracy\n",
        "N = 100\n",
        "plt.style.use(\"ggplot\")\n",
        "plt.figure()\n",
        "plt.plot(np.arange(0, N), history.history[\"loss\"], label=\"train_loss\")\n",
        "plt.plot(np.arange(0, N), history.history[\"val_loss\"], label=\"val_loss\")\n",
        "plt.plot(np.arange(0, N), history.history[\"accuracy\"], label=\"train_acc\")\n",
        "plt.plot(np.arange(0, N), history.history[\"val_accuracy\"], label=\"val_acc\")\n",
        "plt.title(\"Training Loss and Accuracy\")\n",
        "plt.xlabel(\"Epoch #\")\n",
        "plt.ylabel(\"Loss/Accuracy\")\n",
        "plt.legend(loc=\"center right\")\n",
        "plt.savefig(\"CNN_Model\")"
      ],
      "metadata": {
        "colab": {
          "base_uri": "https://localhost:8080/",
          "height": 477
        },
        "id": "yCyPE0gEnp_I",
        "outputId": "6d2d72c0-b39e-4e27-f1b2-5f5c4508fd6c"
      },
      "execution_count": 32,
      "outputs": [
        {
          "output_type": "display_data",
          "data": {
            "text/plain": [
              "<Figure size 640x480 with 1 Axes>"
            ],
            "image/png": "[encoded data removed]"
          },
          "metadata": {}
        }
      ]
    },
    {
      "cell_type": "code",
      "source": [],
      "metadata": {
        "id": "NQI5ok6nnsqY"
      },
      "execution_count": null,
      "outputs": []
    }
  ]
}