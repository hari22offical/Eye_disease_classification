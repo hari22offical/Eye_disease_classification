{
  "cells": [
    {
      "cell_type": "markdown",
      "source": [
        "## Setup\n",
        "Pull in respective libraries to prepare the notebook environment."
      ],
      "metadata": {
        "id": "fEKyhX-8AyQ-"
      }
    },
    {
      "cell_type": "code",
      "execution_count": null,
      "metadata": {
        "colab": {
          "base_uri": "https://localhost:8080/"
        },
        "id": "FfPsluWhg7pk",
        "outputId": "5222b69e-e341-4ec2-f9d2-03374691d215"
      },
      "outputs": [
        {
          "output_type": "stream",
          "name": "stderr",
          "text": [
            "YOLOv5 🚀 v7.0-188-gd19439a Python-3.10.12 torch-2.0.1+cu118 CUDA:0 (Tesla T4, 15102MiB)\n"
          ]
        },
        {
          "output_type": "stream",
          "name": "stdout",
          "text": [
            "Setup complete ✅ (2 CPUs, 12.7 GB RAM, 24.2/78.2 GB disk)\n"
          ]
        }
      ],
      "source": [
        "!git clone https://github.com/ultralytics/yolov5  # clone\n",
        "%cd yolov5\n",
        "%pip install -qr requirements.txt  # install\n",
        "\n",
        "import torch\n",
        "import utils\n",
        "display = utils.notebook_init()  # checks"
      ]
    },
    {
      "cell_type": "code",
      "execution_count": null,
      "metadata": {
        "colab": {
          "base_uri": "https://localhost:8080/"
        },
        "id": "jMgDpXgRhL0h",
        "outputId": "2ac3bbd9-d2ec-4911-fe5e-912c41f8506a"
      },
      "outputs": [
        {
          "output_type": "stream",
          "name": "stdout",
          "text": [
            "/content/datasets\n"
          ]
        }
      ],
      "source": [
        "# Ensure we're in the right directory to download our custom dataset\n",
        "import os\n",
        "os.makedirs(\"../datasets/\", exist_ok=True)\n",
        "%cd ../datasets/"
      ]
    },
    {
      "cell_type": "markdown",
      "source": [
        "### Load Custom Dataset\n",
        "\n",
        "Next, we'll export our dataset into the right directory structure for training YOLOv5 classification to load into this notebook. Select the `Export` button at the top of the version page, `Folder Structure` type, and `show download code`.\n",
        "\n",
        "The ensures all our directories are in the right format:\n",
        "\n",
        "```\n",
        "dataset\n",
        "├── train\n",
        "│   ├── class-one\n",
        "│   │   ├── IMG_123.jpg\n",
        "│   └── class-two\n",
        "│       ├── IMG_456.jpg\n",
        "├── valid\n",
        "│   ├── class-one\n",
        "│   │   ├── IMG_789.jpg\n",
        "│   └── class-two\n",
        "│       ├── IMG_101.jpg\n",
        "├── test\n",
        "│   ├── class-one\n",
        "│   │   ├── IMG_121.jpg\n",
        "│   └── class-two\n",
        "│       ├── IMG_341.jpg\n",
        "```\n",
        "![](https://i.imgur.com/BF9BNR8.gif)\n",
        "\n",
        "\n",
        "Copy and paste that snippet into the cell below."
      ],
      "metadata": {
        "id": "YF-Fl9LvA5Ep"
      }
    },
    {
      "cell_type": "code",
      "execution_count": null,
      "metadata": {
        "colab": {
          "base_uri": "https://localhost:8080/",
          "height": 1000
        },
        "id": "jdiCc8_1hWK7",
        "outputId": "f409cf08-536e-4800-f957-e763a28e5df2"
      },
      "outputs": [
        {
          "output_type": "stream",
          "name": "stdout",
          "text": [
            "Collecting roboflow\n",
            "  Downloading roboflow-1.1.0-py3-none-any.whl (57 kB)\n",
            "\u001b[?25l     \u001b[90m━━━━━━━━━━━━━━━━━━━━━━━━━━━━━━━━━━━━━━━━\u001b[0m \u001b[32m0.0/57.0 kB\u001b[0m \u001b[31m?\u001b[0m eta \u001b[36m-:--:--\u001b[0m\r\u001b[2K     \u001b[90m━━━━━━━━━━━━━━━━━━━━━━━━━━━━━━━━━━━━━━━━\u001b[0m \u001b[32m57.0/57.0 kB\u001b[0m \u001b[31m7.4 MB/s\u001b[0m eta \u001b[36m0:00:00\u001b[0m\n",
            "\u001b[?25hCollecting certifi==2022.12.7 (from roboflow)\n",
            "  Downloading certifi-2022.12.7-py3-none-any.whl (155 kB)\n",
            "\u001b[?25l     \u001b[90m━━━━━━━━━━━━━━━━━━━━━━━━━━━━━━━━━━━━━━━━\u001b[0m \u001b[32m0.0/155.3 kB\u001b[0m \u001b[31m?\u001b[0m eta \u001b[36m-:--:--\u001b[0m\r\u001b[2K     \u001b[90m━━━━━━━━━━━━━━━━━━━━━━━━━━━━━━━━━━━━━━\u001b[0m \u001b[32m155.3/155.3 kB\u001b[0m \u001b[31m22.1 MB/s\u001b[0m eta \u001b[36m0:00:00\u001b[0m\n",
            "\u001b[?25hRequirement already satisfied: chardet==4.0.0 in /usr/local/lib/python3.10/dist-packages (from roboflow) (4.0.0)\n",
            "Collecting cycler==0.10.0 (from roboflow)\n",
            "  Downloading cycler-0.10.0-py2.py3-none-any.whl (6.5 kB)\n",
            "Collecting idna==2.10 (from roboflow)\n",
            "  Downloading idna-2.10-py2.py3-none-any.whl (58 kB)\n",
            "\u001b[2K     \u001b[90m━━━━━━━━━━━━━━━━━━━━━━━━━━━━━━━━━━━━━━━━\u001b[0m \u001b[32m58.8/58.8 kB\u001b[0m \u001b[31m9.6 MB/s\u001b[0m eta \u001b[36m0:00:00\u001b[0m\n",
            "\u001b[?25hRequirement already satisfied: kiwisolver>=1.3.1 in /usr/local/lib/python3.10/dist-packages (from roboflow) (1.4.4)\n",
            "Requirement already satisfied: matplotlib in /usr/local/lib/python3.10/dist-packages (from roboflow) (3.7.1)\n",
            "Requirement already satisfied: numpy>=1.18.5 in /usr/local/lib/python3.10/dist-packages (from roboflow) (1.22.4)\n",
            "Requirement already satisfied: opencv-python>=4.1.2 in /usr/local/lib/python3.10/dist-packages (from roboflow) (4.7.0.72)\n",
            "Requirement already satisfied: Pillow>=7.1.2 in /usr/local/lib/python3.10/dist-packages (from roboflow) (8.4.0)\n",
            "Collecting pyparsing==2.4.7 (from roboflow)\n",
            "  Downloading pyparsing-2.4.7-py2.py3-none-any.whl (67 kB)\n",
            "\u001b[2K     \u001b[90m━━━━━━━━━━━━━━━━━━━━━━━━━━━━━━━━━━━━━━━━\u001b[0m \u001b[32m67.8/67.8 kB\u001b[0m \u001b[31m11.4 MB/s\u001b[0m eta \u001b[36m0:00:00\u001b[0m\n",
            "\u001b[?25hRequirement already satisfied: python-dateutil in /usr/local/lib/python3.10/dist-packages (from roboflow) (2.8.2)\n",
            "Collecting python-dotenv (from roboflow)\n",
            "  Downloading python_dotenv-1.0.0-py3-none-any.whl (19 kB)\n",
            "Requirement already satisfied: requests in /usr/local/lib/python3.10/dist-packages (from roboflow) (2.27.1)\n",
            "Requirement already satisfied: six in /usr/local/lib/python3.10/dist-packages (from roboflow) (1.16.0)\n",
            "Collecting supervision (from roboflow)\n",
            "  Downloading supervision-0.11.1-py3-none-any.whl (55 kB)\n",
            "\u001b[2K     \u001b[90m━━━━━━━━━━━━━━━━━━━━━━━━━━━━━━━━━━━━━━━━\u001b[0m \u001b[32m55.6/55.6 kB\u001b[0m \u001b[31m10.4 MB/s\u001b[0m eta \u001b[36m0:00:00\u001b[0m\n",
            "\u001b[?25hRequirement already satisfied: urllib3>=1.26.6 in /usr/local/lib/python3.10/dist-packages (from roboflow) (1.26.16)\n",
            "Collecting wget (from roboflow)\n",
            "  Downloading wget-3.2.zip (10 kB)\n",
            "  Preparing metadata (setup.py) ... \u001b[?25l\u001b[?25hdone\n",
            "Requirement already satisfied: tqdm>=4.41.0 in /usr/local/lib/python3.10/dist-packages (from roboflow) (4.65.0)\n",
            "Requirement already satisfied: PyYAML>=5.3.1 in /usr/local/lib/python3.10/dist-packages (from roboflow) (6.0)\n",
            "Collecting requests-toolbelt (from roboflow)\n",
            "  Downloading requests_toolbelt-1.0.0-py2.py3-none-any.whl (54 kB)\n",
            "\u001b[2K     \u001b[90m━━━━━━━━━━━━━━━━━━━━━━━━━━━━━━━━━━━━━━━━\u001b[0m \u001b[32m54.5/54.5 kB\u001b[0m \u001b[31m9.0 MB/s\u001b[0m eta \u001b[36m0:00:00\u001b[0m\n",
            "\u001b[?25hRequirement already satisfied: contourpy>=1.0.1 in /usr/local/lib/python3.10/dist-packages (from matplotlib->roboflow) (1.1.0)\n",
            "Requirement already satisfied: fonttools>=4.22.0 in /usr/local/lib/python3.10/dist-packages (from matplotlib->roboflow) (4.40.0)\n",
            "Requirement already satisfied: packaging>=20.0 in /usr/local/lib/python3.10/dist-packages (from matplotlib->roboflow) (23.1)\n",
            "Requirement already satisfied: charset-normalizer~=2.0.0 in /usr/local/lib/python3.10/dist-packages (from requests->roboflow) (2.0.12)\n",
            "Building wheels for collected packages: wget\n",
            "  Building wheel for wget (setup.py) ... \u001b[?25l\u001b[?25hdone\n",
            "  Created wheel for wget: filename=wget-3.2-py3-none-any.whl size=9657 sha256=5244ad931b560ae629c4e06ff0a5971441b4f93a2b07f10f42b607b8b091ffa2\n",
            "  Stored in directory: /root/.cache/pip/wheels/8b/f1/7f/5c94f0a7a505ca1c81cd1d9208ae2064675d97582078e6c769\n",
            "Successfully built wget\n",
            "Installing collected packages: wget, python-dotenv, pyparsing, idna, cycler, certifi, supervision, requests-toolbelt, roboflow\n",
            "  Attempting uninstall: pyparsing\n",
            "    Found existing installation: pyparsing 3.1.0\n",
            "    Uninstalling pyparsing-3.1.0:\n",
            "      Successfully uninstalled pyparsing-3.1.0\n",
            "  Attempting uninstall: idna\n",
            "    Found existing installation: idna 3.4\n",
            "    Uninstalling idna-3.4:\n",
            "      Successfully uninstalled idna-3.4\n",
            "  Attempting uninstall: cycler\n",
            "    Found existing installation: cycler 0.11.0\n",
            "    Uninstalling cycler-0.11.0:\n",
            "      Successfully uninstalled cycler-0.11.0\n",
            "  Attempting uninstall: certifi\n",
            "    Found existing installation: certifi 2023.5.7\n",
            "    Uninstalling certifi-2023.5.7:\n",
            "      Successfully uninstalled certifi-2023.5.7\n",
            "Successfully installed certifi-2022.12.7 cycler-0.10.0 idna-2.10 pyparsing-2.4.7 python-dotenv-1.0.0 requests-toolbelt-1.0.0 roboflow-1.1.0 supervision-0.11.1 wget-3.2\n"
          ]
        },
        {
          "output_type": "display_data",
          "data": {
            "application/vnd.colab-display-data+json": {
              "pip_warning": {
                "packages": [
                  "certifi",
                  "cycler",
                  "idna",
                  "pyparsing"
                ]
              }
            }
          },
          "metadata": {}
        },
        {
          "output_type": "stream",
          "name": "stdout",
          "text": [
            "loading Roboflow workspace...\n",
            "loading Roboflow project...\n",
            "Downloading Dataset Version Zip in eye-disease-classification-1 to folder: 96% [40886272 / 42216972] bytes"
          ]
        },
        {
          "output_type": "stream",
          "name": "stderr",
          "text": [
            "Extracting Dataset Version Zip to eye-disease-classification-1 in folder:: 100%|██████████| 1627/1627 [00:00<00:00, 2527.33it/s]\n"
          ]
        }
      ],
      "source": [
        "!pip install roboflow\n",
        "\n",
        "from roboflow import Roboflow\n",
        "rf = Roboflow(api_key=\"VFQrSXI3PXI5ppUKRxg3\")\n",
        "project = rf.workspace(\"hari-narayanan\").project(\"eye-disease-classification-4hotj\")\n",
        "dataset = project.version(1).download(\"folder\")\n",
        "\n"
      ]
    },
    {
      "cell_type": "code",
      "execution_count": null,
      "metadata": {
        "id": "jaetggziharR"
      },
      "outputs": [],
      "source": [
        "#Save the dataset name to the environment so we can use it in a system call later\n",
        "dataset_name = dataset.location.split(os.sep)[-1]\n",
        "os.environ[\"DATASET_NAME\"] = dataset_name"
      ]
    },
    {
      "cell_type": "markdown",
      "source": [
        "## Train On Custom Data 🎉\n",
        "Here, we use the DATASET_NAME environment variable to pass our dataset to the --data parameter.\n",
        "\n",
        "Note: we're training for 100 epochs here. We're also starting training from the pretrained weights. Larger datasets will likely benefit from longer training."
      ],
      "metadata": {
        "id": "9l26IZN6A_SN"
      }
    },
    {
      "cell_type": "code",
      "execution_count": null,
      "metadata": {
        "id": "8dsAT-okjYgy",
        "colab": {
          "base_uri": "https://localhost:8080/"
        },
        "outputId": "d0d5c903-a053-44f8-d2a0-d7754c9b739f"
      },
      "outputs": [
        {
          "output_type": "stream",
          "name": "stdout",
          "text": [
            "/content/yolov5\n",
            "\u001b[34m\u001b[1mclassify/train: \u001b[0mmodel=yolov5s-cls.pt, data=eye-disease-classification-1, epochs=100, batch_size=64, imgsz=128, nosave=False, cache=None, device=, workers=8, project=runs/train-cls, name=exp, exist_ok=False, pretrained=weights/yolov5s-cls.pt, optimizer=Adam, lr0=0.001, decay=5e-05, label_smoothing=0.1, cutoff=None, dropout=None, verbose=False, seed=0, local_rank=-1\n",
            "\u001b[34m\u001b[1mgithub: \u001b[0mup to date with https://github.com/ultralytics/yolov5 ✅\n",
            "YOLOv5 🚀 v7.0-188-gd19439a Python-3.10.12 torch-2.0.1+cu118 CUDA:0 (Tesla T4, 15102MiB)\n",
            "\n",
            "\u001b[34m\u001b[1mTensorBoard: \u001b[0mStart with 'tensorboard --logdir runs/train-cls', view at http://localhost:6006/\n",
            "\u001b[34m\u001b[1malbumentations: \u001b[0mRandomResizedCrop(p=1.0, height=128, width=128, scale=(0.08, 1.0), ratio=(0.75, 1.3333333333333333), interpolation=1), HorizontalFlip(p=0.5), ColorJitter(p=0.5, brightness=[0.6, 1.4], contrast=[0.6, 1.4], saturation=[0.6, 1.4], hue=[0, 0]), Normalize(p=1.0, mean=(0.485, 0.456, 0.406), std=(0.229, 0.224, 0.225), max_pixel_value=255.0), ToTensorV2(always_apply=True, p=1.0, transpose_mask=False)\n",
            "Downloading https://github.com/ultralytics/yolov5/releases/download/v7.0/yolov5s-cls.pt to yolov5s-cls.pt...\n",
            "100% 10.5M/10.5M [00:00<00:00, 18.3MB/s]\n",
            "\n",
            "Model summary: 149 layers, 4181447 parameters, 4181447 gradients, 10.5 GFLOPs\n",
            "\u001b[34m\u001b[1moptimizer:\u001b[0m Adam(lr=0.001) with parameter groups 32 weight(decay=0.0), 33 weight(decay=5e-05), 33 bias\n",
            "Image sizes 128 train, 128 test\n",
            "Using 1 dataloader workers\n",
            "Logging results to \u001b[1mruns/train-cls/exp\u001b[0m\n",
            "Starting yolov5s-cls.pt training on eye-disease-classification-1 dataset with 7 classes for 100 epochs...\n",
            "\n",
            "     Epoch   GPU_mem  train_loss   test_loss    top1_acc    top5_acc\n",
            "     1/100    0.738G        1.95        1.89       0.187       0.831: 100% 18/18 [00:07<00:00,  2.40it/s]\n",
            "     2/100    0.738G        1.89        1.92       0.187       0.771: 100% 18/18 [00:07<00:00,  2.51it/s]\n",
            "     3/100    0.738G        1.88        1.95       0.163       0.765: 100% 18/18 [00:06<00:00,  2.67it/s]\n",
            "     4/100    0.738G        1.85        1.92       0.193       0.765: 100% 18/18 [00:07<00:00,  2.33it/s]\n",
            "     5/100    0.738G        1.85        1.93       0.229       0.783: 100% 18/18 [00:06<00:00,  2.80it/s]\n",
            "     6/100    0.738G        1.81        1.95       0.241       0.807: 100% 18/18 [00:07<00:00,  2.32it/s]\n",
            "     7/100    0.738G        1.82        1.77       0.307       0.904: 100% 18/18 [00:06<00:00,  2.78it/s]\n",
            "     8/100    0.738G         1.8        1.74       0.307       0.916: 100% 18/18 [00:07<00:00,  2.35it/s]\n",
            "     9/100    0.738G         1.8        2.24       0.241       0.886: 100% 18/18 [00:06<00:00,  2.71it/s]\n",
            "    10/100    0.738G        1.77        1.75       0.337       0.928: 100% 18/18 [00:07<00:00,  2.38it/s]\n",
            "    11/100    0.738G        1.76        1.78       0.277        0.88: 100% 18/18 [00:07<00:00,  2.41it/s]\n",
            "    12/100    0.738G        1.75        1.64       0.386       0.934: 100% 18/18 [00:06<00:00,  2.80it/s]\n",
            "    13/100    0.738G        1.73        1.73       0.307       0.898: 100% 18/18 [00:07<00:00,  2.38it/s]\n",
            "    14/100    0.738G        1.75        1.71       0.343       0.916: 100% 18/18 [00:06<00:00,  2.80it/s]\n",
            "    15/100    0.738G        1.73        1.64       0.313       0.934: 100% 18/18 [00:07<00:00,  2.36it/s]\n",
            "    16/100    0.738G        1.71        1.72       0.373        0.94: 100% 18/18 [00:06<00:00,  2.75it/s]\n",
            "    17/100    0.738G        1.69        1.73       0.313       0.946: 100% 18/18 [00:07<00:00,  2.35it/s]\n",
            "    18/100    0.738G        1.71        1.75       0.289       0.946: 100% 18/18 [00:06<00:00,  2.76it/s]\n",
            "    19/100    0.738G        1.67        1.64       0.373       0.934: 100% 18/18 [00:07<00:00,  2.30it/s]\n",
            "    20/100    0.738G        1.66        1.68       0.367       0.922: 100% 18/18 [00:07<00:00,  2.51it/s]\n",
            "    21/100    0.738G        1.62        1.45        0.47        0.97: 100% 18/18 [00:06<00:00,  2.63it/s]\n",
            "    22/100    0.738G        1.66        1.76       0.355       0.898: 100% 18/18 [00:07<00:00,  2.35it/s]\n",
            "    23/100    0.738G        1.63         1.6       0.404       0.934: 100% 18/18 [00:06<00:00,  2.77it/s]\n",
            "    24/100    0.738G        1.59        1.62       0.452       0.922: 100% 18/18 [00:07<00:00,  2.34it/s]\n",
            "    25/100    0.738G         1.6        1.65       0.428       0.952: 100% 18/18 [00:06<00:00,  2.77it/s]\n",
            "    26/100    0.738G        1.59        1.56       0.422       0.952: 100% 18/18 [00:07<00:00,  2.38it/s]\n",
            "    27/100    0.738G        1.59        1.55       0.392       0.946: 100% 18/18 [00:06<00:00,  2.75it/s]\n",
            "    28/100    0.738G        1.57        1.52       0.434       0.964: 100% 18/18 [00:07<00:00,  2.33it/s]\n",
            "    29/100    0.738G        1.58        1.57       0.434       0.952: 100% 18/18 [00:06<00:00,  2.69it/s]\n",
            "    30/100    0.738G        1.56        1.59       0.434       0.958: 100% 18/18 [00:07<00:00,  2.41it/s]\n",
            "    31/100    0.738G        1.59        1.49        0.44        0.97: 100% 18/18 [00:07<00:00,  2.47it/s]\n",
            "    32/100    0.738G        1.54        1.51        0.41        0.97: 100% 18/18 [00:06<00:00,  2.63it/s]\n",
            "    33/100    0.738G        1.55        1.51        0.44        0.97: 100% 18/18 [00:07<00:00,  2.36it/s]\n",
            "    34/100    0.738G        1.55        1.62       0.428       0.946: 100% 18/18 [00:06<00:00,  2.81it/s]\n",
            "    35/100    0.738G        1.54        1.51       0.452        0.97: 100% 18/18 [00:07<00:00,  2.33it/s]\n",
            "    36/100    0.738G        1.54        1.55       0.398       0.964: 100% 18/18 [00:06<00:00,  2.77it/s]\n",
            "    37/100    0.738G        1.53         1.6       0.404       0.958: 100% 18/18 [00:07<00:00,  2.37it/s]\n",
            "    38/100    0.738G        1.52        1.62       0.452       0.958: 100% 18/18 [00:06<00:00,  2.81it/s]\n",
            "    39/100    0.738G        1.53        1.55       0.398       0.964: 100% 18/18 [00:07<00:00,  2.31it/s]\n",
            "    40/100    0.738G        1.51        1.63       0.404        0.97: 100% 18/18 [00:06<00:00,  2.58it/s]\n",
            "    41/100    0.738G        1.53         1.5       0.367       0.982: 100% 18/18 [00:07<00:00,  2.52it/s]\n",
            "    42/100    0.738G        1.51        1.54       0.398       0.976: 100% 18/18 [00:07<00:00,  2.34it/s]\n",
            "    43/100    0.738G        1.51        1.43       0.494       0.964: 100% 18/18 [00:06<00:00,  2.82it/s]\n",
            "    44/100    0.738G        1.52        1.52       0.458        0.97: 100% 18/18 [00:07<00:00,  2.35it/s]\n",
            "    45/100    0.738G        1.51        1.46       0.464       0.982: 100% 18/18 [00:06<00:00,  2.81it/s]\n",
            "    46/100    0.738G        1.48        1.47        0.44       0.988: 100% 18/18 [00:07<00:00,  2.35it/s]\n",
            "    47/100    0.738G         1.5        1.43       0.482       0.994: 100% 18/18 [00:06<00:00,  2.80it/s]\n",
            "    48/100    0.738G        1.51         1.4       0.464       0.988: 100% 18/18 [00:07<00:00,  2.34it/s]\n",
            "    49/100    0.738G        1.49        1.49       0.428       0.952: 100% 18/18 [00:06<00:00,  2.80it/s]\n",
            "    50/100    0.738G         1.5         1.5       0.482       0.964: 100% 18/18 [00:07<00:00,  2.33it/s]\n",
            "    51/100    0.738G        1.47        1.48        0.47       0.976: 100% 18/18 [00:06<00:00,  2.58it/s]\n",
            "    52/100    0.738G        1.47        1.45       0.488       0.976: 100% 18/18 [00:07<00:00,  2.53it/s]\n",
            "    53/100    0.738G        1.46        1.49       0.422       0.976: 100% 18/18 [00:07<00:00,  2.35it/s]\n",
            "    54/100    0.738G        1.48        1.43       0.452       0.994: 100% 18/18 [00:06<00:00,  2.77it/s]\n",
            "    55/100    0.738G        1.48        1.52       0.434       0.976: 100% 18/18 [00:07<00:00,  2.34it/s]\n",
            "    56/100    0.738G        1.47        1.46       0.428       0.988: 100% 18/18 [00:06<00:00,  2.77it/s]\n",
            "    57/100    0.738G        1.46        1.44       0.458       0.976: 100% 18/18 [00:07<00:00,  2.37it/s]\n",
            "    58/100    0.738G        1.48        1.48       0.458       0.988: 100% 18/18 [00:06<00:00,  2.78it/s]\n",
            "    59/100    0.738G        1.45        1.43       0.476        0.97: 100% 18/18 [00:07<00:00,  2.33it/s]\n",
            "    60/100    0.738G        1.46        1.43       0.398       0.982: 100% 18/18 [00:06<00:00,  2.73it/s]\n",
            "    61/100    0.738G        1.47        1.53       0.428       0.982: 100% 18/18 [00:07<00:00,  2.35it/s]\n",
            "    62/100    0.738G        1.45         1.5       0.446       0.982: 100% 18/18 [00:07<00:00,  2.50it/s]\n",
            "    63/100    0.738G        1.43        1.45       0.494       0.982: 100% 18/18 [00:06<00:00,  2.63it/s]\n",
            "    64/100    0.738G        1.46        1.54       0.446       0.982: 100% 18/18 [00:07<00:00,  2.33it/s]\n",
            "    65/100    0.738G        1.43        1.39       0.464       0.994: 100% 18/18 [00:06<00:00,  2.83it/s]\n",
            "    66/100    0.738G        1.43        1.42       0.422       0.982: 100% 18/18 [00:07<00:00,  2.33it/s]\n",
            "    67/100    0.738G        1.43        1.49       0.476       0.976: 100% 18/18 [00:06<00:00,  2.83it/s]\n",
            "    68/100    0.738G        1.44        1.38       0.452       0.988: 100% 18/18 [00:07<00:00,  2.38it/s]\n",
            "    69/100    0.738G        1.43        1.47       0.434       0.988: 100% 18/18 [00:06<00:00,  2.82it/s]\n",
            "    70/100    0.738G        1.43        1.37       0.458       0.982: 100% 18/18 [00:07<00:00,  2.34it/s]\n",
            "    71/100    0.738G        1.42        1.38       0.458       0.976: 100% 18/18 [00:06<00:00,  2.69it/s]\n",
            "    72/100    0.738G        1.41        1.41       0.482       0.982: 100% 18/18 [00:07<00:00,  2.45it/s]\n",
            "    73/100    0.738G        1.41         1.4       0.488       0.976: 100% 18/18 [00:07<00:00,  2.38it/s]\n",
            "    74/100    0.738G        1.43        1.45       0.458       0.976: 100% 18/18 [00:06<00:00,  2.83it/s]\n",
            "    75/100    0.738G        1.42        1.39       0.482       0.994: 100% 18/18 [00:07<00:00,  2.33it/s]\n",
            "    76/100    0.738G        1.42        1.46       0.482        0.97: 100% 18/18 [00:06<00:00,  2.80it/s]\n",
            "    77/100    0.738G        1.38        1.38       0.464       0.988: 100% 18/18 [00:07<00:00,  2.33it/s]\n",
            "    78/100    0.738G         1.4        1.37       0.434       0.988: 100% 18/18 [00:06<00:00,  2.77it/s]\n",
            "    79/100    0.738G        1.39        1.37       0.434           1: 100% 18/18 [00:07<00:00,  2.34it/s]\n",
            "    80/100    0.738G        1.39        1.44       0.434       0.976: 100% 18/18 [00:06<00:00,  2.73it/s]\n",
            "    81/100    0.738G        1.42        1.49       0.428        0.97: 100% 18/18 [00:07<00:00,  2.35it/s]\n",
            "    82/100    0.738G        1.41        1.42       0.482       0.988: 100% 18/18 [00:07<00:00,  2.40it/s]\n",
            "    83/100    0.738G        1.38        1.43       0.458       0.988: 100% 18/18 [00:06<00:00,  2.70it/s]\n",
            "    84/100    0.738G        1.38         1.4        0.44       0.988: 100% 18/18 [00:07<00:00,  2.37it/s]\n",
            "    85/100    0.738G        1.36        1.44       0.476       0.976: 100% 18/18 [00:06<00:00,  2.79it/s]\n",
            "    86/100    0.738G         1.4        1.42       0.512       0.982: 100% 18/18 [00:07<00:00,  2.36it/s]\n",
            "    87/100    0.738G        1.35        1.42       0.488           1: 100% 18/18 [00:06<00:00,  2.85it/s]\n",
            "    88/100    0.738G         1.4        1.45       0.506       0.994: 100% 18/18 [00:07<00:00,  2.35it/s]\n",
            "    89/100    0.738G        1.36        1.38       0.464       0.988: 100% 18/18 [00:06<00:00,  2.79it/s]\n",
            "    90/100    0.738G        1.34        1.41       0.458        0.97: 100% 18/18 [00:07<00:00,  2.42it/s]\n",
            "    91/100    0.738G        1.38        1.38       0.458       0.982: 100% 18/18 [00:07<00:00,  2.54it/s]\n",
            "    92/100    0.738G        1.36        1.36       0.494       0.982: 100% 18/18 [00:07<00:00,  2.56it/s]\n",
            "    93/100    0.738G        1.36         1.4       0.512       0.988: 100% 18/18 [00:07<00:00,  2.40it/s]\n",
            "    94/100    0.738G        1.36        1.36       0.518       0.994: 100% 18/18 [00:06<00:00,  2.82it/s]\n",
            "    95/100    0.738G        1.37        1.29       0.512       0.988: 100% 18/18 [00:07<00:00,  2.39it/s]\n",
            "    96/100    0.738G        1.35        1.35        0.53       0.988: 100% 18/18 [00:06<00:00,  2.83it/s]\n",
            "    97/100    0.738G        1.35        1.42       0.518       0.988: 100% 18/18 [00:07<00:00,  2.35it/s]\n",
            "    98/100    0.738G        1.35        1.32       0.518       0.982: 100% 18/18 [00:06<00:00,  2.78it/s]\n",
            "    99/100    0.738G        1.33        1.36         0.5       0.982: 100% 18/18 [00:07<00:00,  2.34it/s]\n",
            "   100/100    0.738G        1.33        1.35         0.5       0.982: 100% 18/18 [00:06<00:00,  2.75it/s]\n",
            "\n",
            "Training complete (0.203 hours)\n",
            "Results saved to \u001b[1mruns/train-cls/exp\u001b[0m\n",
            "Predict:         python classify/predict.py --weights runs/train-cls/exp/weights/best.pt --source im.jpg\n",
            "Validate:        python classify/val.py --weights runs/train-cls/exp/weights/best.pt --data /content/datasets/eye-disease-classification-1\n",
            "Export:          python export.py --weights runs/train-cls/exp/weights/best.pt --include onnx\n",
            "PyTorch Hub:     model = torch.hub.load('ultralytics/yolov5', 'custom', 'runs/train-cls/exp/weights/best.pt')\n",
            "Visualize:       https://netron.app\n",
            "\n"
          ]
        }
      ],
      "source": [
        "%cd ../yolov5\n",
        "!python classify/train.py --model yolov5s-cls.pt --data $DATASET_NAME --epochs 100 --img 128 --pretrained weights/yolov5s-cls.pt"
      ]
    },
    {
      "cell_type": "markdown",
      "source": [
        "## Validate Your Custom Model\n",
        "Repeat step 2 from above to test and validate your custom model."
      ],
      "metadata": {
        "id": "d4pJzXiRBEtl"
      }
    },
    {
      "cell_type": "code",
      "execution_count": null,
      "metadata": {
        "id": "EPFmTvC3jYd_",
        "colab": {
          "base_uri": "https://localhost:8080/"
        },
        "outputId": "1397d8a0-2afb-4a01-a46c-b0d2ca0325d2"
      },
      "outputs": [
        {
          "output_type": "stream",
          "name": "stdout",
          "text": [
            "\u001b[34m\u001b[1mclassify/val: \u001b[0mdata=../datasets/eye-disease-classification-1, weights=['runs/train-cls/exp/weights/best.pt'], batch_size=128, imgsz=224, device=, workers=8, verbose=True, project=runs/val-cls, name=exp, exist_ok=False, half=False, dnn=False\n",
            "YOLOv5 🚀 v7.0-188-gd19439a Python-3.10.12 torch-2.0.1+cu118 CUDA:0 (Tesla T4, 15102MiB)\n",
            "\n",
            "Fusing layers... \n",
            "Model summary: 117 layers, 4175655 parameters, 0 gradients, 10.4 GFLOPs\n",
            "testing: 100% 2/2 [00:02<00:00,  1.35s/it]\n",
            "                   Class      Images    top1_acc    top5_acc\n",
            "                     all         166       0.476       0.994\n",
            "                Cataract          14       0.714           1\n",
            "                Diabetic          27      0.0741           1\n",
            "                Glaucoma          30       0.733           1\n",
            "            Hypertensive          14       0.214       0.929\n",
            "                  Myopia          24       0.875           1\n",
            "                  Normal          31       0.484           1\n",
            "                  Others          26       0.231           1\n",
            "Speed: 0.1ms pre-process, 4.3ms inference, 0.3ms post-process per image at shape (1, 3, 224, 224)\n",
            "Results saved to \u001b[1mruns/val-cls/exp\u001b[0m\n"
          ]
        }
      ],
      "source": [
        "!python classify/val.py --weights runs/train-cls/exp/weights/best.pt --data ../datasets/$DATASET_NAME"
      ]
    },
    {
      "cell_type": "markdown",
      "source": [
        "# saving the model in drive"
      ],
      "metadata": {
        "id": "lnt7PSl8BJzs"
      }
    },
    {
      "cell_type": "code",
      "source": [
        "!cp -r \"/content/yolov5/runs/train-cls/exp\" \"/content/drive/MyDrive/eye_disease_classification\""
      ],
      "metadata": {
        "id": "XIRZFwlauX--"
      },
      "execution_count": null,
      "outputs": []
    },
    {
      "cell_type": "code",
      "source": [],
      "metadata": {
        "id": "MEb9cSUg6n-8"
      },
      "execution_count": null,
      "outputs": []
    }
  ],
  "metadata": {
    "accelerator": "GPU",
    "colab": {
      "provenance": [],
      "gpuType": "T4"
    },
    "kernelspec": {
      "display_name": "Python 3",
      "name": "python3"
    },
    "language_info": {
      "name": "python"
    }
  },
  "nbformat": 4,
  "nbformat_minor": 0
}